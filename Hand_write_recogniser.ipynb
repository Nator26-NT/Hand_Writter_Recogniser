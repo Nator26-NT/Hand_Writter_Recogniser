{
 "cells": [
  {
   "cell_type": "code",
   "execution_count": 125,
   "id": "57e69bd9-80c0-40c2-a2cf-b2d72a0044d6",
   "metadata": {},
   "outputs": [],
   "source": [
    "import cv2\n",
    "import os\n",
    "import matplotlib.pyplot as plt\n",
    "import numpy as np\n",
    "import tensorflow as tf"
   ]
  },
  {
   "cell_type": "code",
   "execution_count": null,
   "id": "6ff63a40-d37a-429a-9db0-d03733c77e8f",
   "metadata": {},
   "outputs": [],
   "source": [
    "\n",
    "\n",
    "\n"
   ]
  },
  {
   "cell_type": "code",
   "execution_count": 126,
   "id": "5bd5bea9-de88-4de2-93a4-a8c56f9c50eb",
   "metadata": {},
   "outputs": [],
   "source": [
    "mnist = tf.keras.datasets.mnist "
   ]
  },
  {
   "cell_type": "code",
   "execution_count": 127,
   "id": "83c8c6db-89cc-4e98-ae89-d345a4215ae1",
   "metadata": {},
   "outputs": [],
   "source": [
    "(x_train, y_train) , (x_test , y_test) = mnist.load_data()"
   ]
  },
  {
   "cell_type": "code",
   "execution_count": 128,
   "id": "b49fc42c-e539-4ee0-9f71-ee8e9eca3455",
   "metadata": {},
   "outputs": [],
   "source": [
    "x_train = tf.keras.utils.normalize(x_train, axis=1)\n",
    "x_test = tf.keras.utils.normalize(x_test, axis=1)"
   ]
  },
  {
   "cell_type": "code",
   "execution_count": 129,
   "id": "fd4b2bcb-4843-4c49-bdc9-8d697ce8a19c",
   "metadata": {},
   "outputs": [],
   "source": [
    "model = tf.keras.models.Sequential()"
   ]
  },
  {
   "cell_type": "code",
   "execution_count": 130,
   "id": "a7d36a51-352a-49e3-a220-69dfc1c9235d",
   "metadata": {},
   "outputs": [],
   "source": [
    "model.add(tf.keras.layers.Flatten(input_shape=(28,28)))\n",
    "model.add(tf.keras.layers.Dense(128, activation='relu'))\n",
    "model.add(tf.keras.layers.Dense(128, activation='relu'))\n",
    "model.add(tf.keras.layers.Dense(10, activation='softmax'))"
   ]
  },
  {
   "cell_type": "code",
   "execution_count": 131,
   "id": "f548d4b9-b280-4ebc-a4c6-93c1ce8e99a6",
   "metadata": {},
   "outputs": [],
   "source": [
    "model.compile(optimizer='adam', loss='sparse_categorical_crossentropy', metrics=['accuracy'])"
   ]
  },
  {
   "cell_type": "code",
   "execution_count": 132,
   "id": "f0d31b63-8779-4b29-a766-03e3f5e1e31a",
   "metadata": {},
   "outputs": [
    {
     "name": "stdout",
     "output_type": "stream",
     "text": [
      "Epoch 1/3\n",
      "\u001b[1m1875/1875\u001b[0m \u001b[32m━━━━━━━━━━━━━━━━━━━━\u001b[0m\u001b[37m\u001b[0m \u001b[1m16s\u001b[0m 6ms/step - accuracy: 0.8712 - loss: 0.4635\n",
      "Epoch 2/3\n",
      "\u001b[1m1875/1875\u001b[0m \u001b[32m━━━━━━━━━━━━━━━━━━━━\u001b[0m\u001b[37m\u001b[0m \u001b[1m13s\u001b[0m 7ms/step - accuracy: 0.9639 - loss: 0.1150\n",
      "Epoch 3/3\n",
      "\u001b[1m1875/1875\u001b[0m \u001b[32m━━━━━━━━━━━━━━━━━━━━\u001b[0m\u001b[37m\u001b[0m \u001b[1m19s\u001b[0m 6ms/step - accuracy: 0.9772 - loss: 0.0720\n"
     ]
    },
    {
     "data": {
      "text/plain": [
       "<keras.src.callbacks.history.History at 0x1dfa32b5850>"
      ]
     },
     "execution_count": 132,
     "metadata": {},
     "output_type": "execute_result"
    }
   ],
   "source": [
    "model.fit(x_train , y_train, epochs=3)"
   ]
  },
  {
   "cell_type": "code",
   "execution_count": 133,
   "id": "17bde4bb-2e3e-43f6-aa1f-3dd90f081692",
   "metadata": {},
   "outputs": [],
   "source": [
    "#model.save('Documents/python projects/my_model.keras')"
   ]
  },
  {
   "cell_type": "code",
   "execution_count": 134,
   "id": "cf77b95f-cfbb-4e50-bf93-cc6beac7182b",
   "metadata": {},
   "outputs": [
    {
     "name": "stdout",
     "output_type": "stream",
     "text": [
      "\u001b[1m313/313\u001b[0m \u001b[32m━━━━━━━━━━━━━━━━━━━━\u001b[0m\u001b[37m\u001b[0m \u001b[1m2s\u001b[0m 5ms/step - accuracy: 0.9659 - loss: 0.1091\n"
     ]
    }
   ],
   "source": [
    "loss, accurancy = model.evaluate(x_test , y_test)"
   ]
  },
  {
   "cell_type": "code",
   "execution_count": 135,
   "id": "03e76882-72e4-42a7-b137-d35a69b58841",
   "metadata": {},
   "outputs": [
    {
     "name": "stdout",
     "output_type": "stream",
     "text": [
      "0.09581241011619568\n",
      "0.9697999954223633\n"
     ]
    }
   ],
   "source": [
    "print(loss)\n",
    "print(accurancy)\n",
    "\n"
   ]
  },
  {
   "cell_type": "code",
   "execution_count": 144,
   "id": "a2b24e44-9f0a-4ca1-8575-4d568bbc0b2d",
   "metadata": {},
   "outputs": [
    {
     "name": "stdout",
     "output_type": "stream",
     "text": [
      "\u001b[1m1/1\u001b[0m \u001b[32m━━━━━━━━━━━━━━━━━━━━\u001b[0m\u001b[37m\u001b[0m \u001b[1m0s\u001b[0m 120ms/step\n",
      "This Digit is Probably a 7\n"
     ]
    },
    {
     "data": {
      "image/png": "[encoded data removed]",
      "text/plain": [
       "<Figure size 640x480 with 1 Axes>"
      ]
     },
     "metadata": {},
     "output_type": "display_data"
    },
    {
     "name": "stdout",
     "output_type": "stream",
     "text": [
      "\u001b[1m1/1\u001b[0m \u001b[32m━━━━━━━━━━━━━━━━━━━━\u001b[0m\u001b[37m\u001b[0m \u001b[1m0s\u001b[0m 164ms/step\n",
      "This Digit is Probably a 5\n"
     ]
    },
    {
     "data": {
      "image/png": "[encoded data removed]",
      "text/plain": [
       "<Figure size 640x480 with 1 Axes>"
      ]
     },
     "metadata": {},
     "output_type": "display_data"
    },
    {
     "name": "stdout",
     "output_type": "stream",
     "text": [
      "\u001b[1m1/1\u001b[0m \u001b[32m━━━━━━━━━━━━━━━━━━━━\u001b[0m\u001b[37m\u001b[0m \u001b[1m0s\u001b[0m 140ms/step\n",
      "This Digit is Probably a 6\n"
     ]
    },
    {
     "data": {
      "image/png": "[encoded data removed]",
      "text/plain": [
       "<Figure size 640x480 with 1 Axes>"
      ]
     },
     "metadata": {},
     "output_type": "display_data"
    },
    {
     "name": "stdout",
     "output_type": "stream",
     "text": [
      "\u001b[1m1/1\u001b[0m \u001b[32m━━━━━━━━━━━━━━━━━━━━\u001b[0m\u001b[37m\u001b[0m \u001b[1m0s\u001b[0m 120ms/step\n",
      "This Digit is Probably a 5\n"
     ]
    },
    {
     "data": {
      "image/png": "[encoded data removed]",
      "text/plain": [
       "<Figure size 640x480 with 1 Axes>"
      ]
     },
     "metadata": {},
     "output_type": "display_data"
    },
    {
     "name": "stdout",
     "output_type": "stream",
     "text": [
      "\u001b[1m1/1\u001b[0m \u001b[32m━━━━━━━━━━━━━━━━━━━━\u001b[0m\u001b[37m\u001b[0m \u001b[1m0s\u001b[0m 104ms/step\n",
      "This Digit is Probably a 5\n"
     ]
    },
    {
     "data": {
      "image/png": "[encoded data removed]",
      "text/plain": [
       "<Figure size 640x480 with 1 Axes>"
      ]
     },
     "metadata": {},
     "output_type": "display_data"
    },
    {
     "name": "stdout",
     "output_type": "stream",
     "text": [
      "\u001b[1m1/1\u001b[0m \u001b[32m━━━━━━━━━━━━━━━━━━━━\u001b[0m\u001b[37m\u001b[0m \u001b[1m0s\u001b[0m 98ms/step\n",
      "This Digit is Probably a 5\n"
     ]
    },
    {
     "data": {
      "image/png": "[encoded data removed]",
      "text/plain": [
       "<Figure size 640x480 with 1 Axes>"
      ]
     },
     "metadata": {},
     "output_type": "display_data"
    }
   ],
   "source": [
    "image_number = 1\n",
    "while os.path.isfile(f\"C:\\\\Users\\\\NtandoThumbu\\\\data\\\\Image{image_number}.png\"):\n",
    "    try:\n",
    "        img = cv2.imread(f\"C:\\\\Users\\\\NtandoThumbu\\\\data\\\\Image{image_number}.png\")[:,:,0]\n",
    "        img = cv2.resize(img, (28, 28)) # Flatten the image to match the input shape expected by the model \n",
    "        img = img.flatten() # Convert the 28x28 image to a 784-element vector \n",
    "        img = np.expand_dims(img, axis=0)\n",
    "        img = np.invert(np.array([img]))\n",
    "        prediction = model.predict(img)\n",
    "        print(f\"This Digit is Probably a {np.argmax(prediction)}\")\n",
    "        plt.imshow(img[0], cmap=plt.cm.binary)\n",
    "        plt.show()\n",
    "    except:\n",
    "        print('Error!')\n",
    "    finally:\n",
    "        image_number += 1"
   ]
  },
  {
   "cell_type": "code",
   "execution_count": 137,
   "id": "2b827ae1-6501-45b5-8bfe-a2166d6c4542",
   "metadata": {},
   "outputs": [
    {
     "name": "stdout",
     "output_type": "stream",
     "text": [
      "Error loading image\n"
     ]
    }
   ],
   "source": [
    "import cv2\n",
    "import matplotlib.pyplot as plt\n",
    "\n",
    "# Read the image\n",
    "image = cv2.imread(\"C:\\\\Users\\\\NtandoThumbu\\\\data\\\\Image14.png\")\n",
    "\n",
    "# Check if the image was successfully loaded\n",
    "if image is None:\n",
    "    print('Error loading image')\n",
    "else:\n",
    "    # Convert the image from BGR to RGB\n",
    "    image_rgb = cv2.cvtColor(image, cv2.COLOR_BGR2RGB)\n",
    "\n",
    "    # Convert to grayscale\n",
    "    grayscale_image = cv2.cvtColor(image, cv2.COLOR_BGR2GRAY)\n",
    "\n",
    "    # Resize the image\n",
    "    resized_image = cv2.resize(image_rgb, (28, 28))\n",
    "\n",
    "    # Display the original image\n",
    "    plt.figure(figsize=(10, 4))\n",
    "    \n",
    "    plt.subplot(1, 3, 1)\n",
    "    plt.imshow(image_rgb)\n",
    "    plt.title('Original Image')\n",
    "    plt.axis('off')\n",
    "\n",
    "    # Display the grayscale image\n",
    "    plt.subplot(1, 3, 2)\n",
    "    plt.imshow(grayscale_image, cmap='gray')\n",
    "    plt.title('Grayscale Image')\n",
    "    plt.axis('off')\n",
    "\n",
    "    # Display the resized image\n",
    "    plt.subplot(1, 3, 3)\n",
    "    plt.imshow(resized_image)\n",
    "    plt.title('Resized Image')\n",
    "    plt.axis('off')\n",
    "\n",
    "    plt.show()\n"
   ]
  },
  {
   "cell_type": "code",
   "execution_count": 138,
   "id": "b808c9f5-7059-433c-81ee-94da99166197",
   "metadata": {},
   "outputs": [
    {
     "data": {
      "text/plain": [
       "'C:\\\\Users\\\\NtandoThumbu'"
      ]
     },
     "execution_count": 138,
     "metadata": {},
     "output_type": "execute_result"
    }
   ],
   "source": [
    "import os\n",
    "\n",
    "# Get the current working directory\n",
    "current_directory = os.getcwd()\n",
    "\n",
    "# Display the current working directory\n",
    "current_directory\n"
   ]
  },
  {
   "cell_type": "code",
   "execution_count": 139,
   "id": "dabf9e8d-2a3e-41ca-8453-5d47b0cd78c3",
   "metadata": {},
   "outputs": [
    {
     "name": "stdout",
     "output_type": "stream",
     "text": [
      "Current working directory: C:\\Users\\NtandoThumbu\n",
      "New working directory: C:\\Users\\NtandoThumbu\n"
     ]
    }
   ],
   "source": [
    "import os\n",
    "\n",
    "# Get the current working directory\n",
    "current_directory = os.getcwd()\n",
    "print(f'Current working directory: {current_directory}')\n",
    "\n",
    "# Change the working directory to a new path\n",
    "new_directory = 'C:\\\\Users\\\\NtandoThumbu'\n",
    "os.chdir(new_directory)\n",
    "\n",
    "# Verify the change\n",
    "current_directory = os.getcwd()\n",
    "print(f'New working directory: {current_directory}')\n"
   ]
  },
  {
   "cell_type": "code",
   "execution_count": null,
   "id": "fbb73f0c-7673-47c7-b9e0-7b0349d2bcce",
   "metadata": {},
   "outputs": [],
   "source": []
  }
 ],
 "metadata": {
  "kernelspec": {
   "display_name": "Python 3 (ipykernel)",
   "language": "python",
   "name": "python3"
  },
  "language_info": {
   "codemirror_mode": {
    "name": "ipython",
    "version": 3
   },
   "file_extension": ".py",
   "mimetype": "text/x-python",
   "name": "python",
   "nbconvert_exporter": "python",
   "pygments_lexer": "ipython3",
   "version": "3.11.7"
  }
 },
 "nbformat": 4,
 "nbformat_minor": 5
}
